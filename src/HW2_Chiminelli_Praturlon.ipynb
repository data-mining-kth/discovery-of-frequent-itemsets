{
 "cells": [
  {
   "cell_type": "markdown",
   "metadata": {
    "id": "EOIaEvWVUKFp"
   },
   "source": [
    "# ID2222 Data Mining, Homework 2\n",
    "# **Discovery of Frequent Itemsets and Association Rules**\n",
    "\n",
    "Brando Chiminelli, Tommaso Praturlon\n",
    "\n",
    "November 21th, 2022"
   ]
  },
  {
   "cell_type": "markdown",
   "metadata": {
    "id": "0PqOxlll3C1p"
   },
   "source": [
    "## Goal\n",
    "The goal of this notebook is to find frequent itemsets, and to identify items that frequently occur together in sets of items, called baskets. By frequent items we mean products bought together by sufficiently many customers.\n",
    "The second step is to find the so called \"Association rules”. Those are if-then rules in the form of implication X → Y (if X then Y), where X and Y are itemsets (Y can be just an item) such that X∩Y=∅. For example: If butter and bread are bought together, customers also buy milk: {butter, bread} → {milk}. The rule needs the support of many (several hundred) transactions to be statistically significant.\n",
    "\n",
    "In our dataset we are dealing with sales transactions (baskets) of hashed items, so our associations rules will be for example {125, 987} → {122}. Moreover, we will display the relative confidence for each association rule."
   ]
  },
  {
   "cell_type": "markdown",
   "metadata": {
    "id": "35iKgnWG3C1q"
   },
   "source": [
    "## How to run\n",
    "\n",
    "In order to run this notebook you need to import the dataset from this address (https://canvas.kth.se/courses/36211/files/5772174/download?wrap=1) in a 'data/' directory.\n",
    "Then you can run all the notebook and read along the descriptions of the different parts of the implementation and check the comments present on the code."
   ]
  },
  {
   "cell_type": "markdown",
   "metadata": {},
   "source": [
    "## Import libraries and read the dataset\n",
    "In the following we import the few libraries needed for the project and we read the dataset.\n",
    "\n",
    "We decided to read the first 2000 baskets from the dataset in order to reduce weight on memory. Our assumption is that items are uniformly distributed across the dataset, thus allowing us to have a good insight only from the given sample."
   ]
  },
  {
   "cell_type": "code",
   "execution_count": 262,
   "metadata": {
    "colab": {
     "base_uri": "https://localhost:8080/"
    },
    "id": "zsKXTmhdUKFq",
    "outputId": "0037249a-d66a-4394-973b-771f08c839bd"
   },
   "outputs": [
    {
     "name": "stdout",
     "output_type": "stream",
     "text": [
      "Data read successfully!\n",
      "                                                   0\n",
      "0  25 52 164 240 274 328 368 448 538 561 630 687 ...\n",
      "1            39 120 124 205 401 581 704 814 825 834 \n",
      "2                    35 249 674 712 733 759 854 950 \n",
      "3            39 422 449 704 825 857 895 937 954 964 \n",
      "4  15 229 262 283 294 352 381 708 738 766 853 883...\n",
      "Number of baskets:  100000\n"
     ]
    }
   ],
   "source": [
    "import pandas as pd\n",
    "import matplotlib.pyplot as plt\n",
    "from collections import Counter\n",
    "from itertools import combinations\n",
    "import statistics\n",
    "import math\n",
    "\n",
    "PATH_TO_DATA = \"../data/T10I4D100K.dat\"\n",
    "df_market = pd.read_csv(PATH_TO_DATA, header=None)\n",
    "print(\"Data read successfully!\")\n",
    "# Delete duplicates from the dataset in the columns title and text\n",
    "\n",
    "# Reduce dataset size for computation overload (temporary)\n",
    "#df_market = df_market.iloc[0:20000]\n",
    "print(df_market.head())\n",
    "print(\"Number of baskets: \", len(df_market))"
   ]
  },
  {
   "cell_type": "markdown",
   "metadata": {},
   "source": [
    "## Data cleaning\n",
    "\n",
    "Before proceeding on, we need to clean our data, so to have our dataset as lists of integers, which is easier to work with. The cleaning of the data is implemented in the following block."
   ]
  },
  {
   "cell_type": "code",
   "execution_count": 263,
   "metadata": {
    "id": "pfPtkGmOUKFr"
   },
   "outputs": [],
   "source": [
    "# DATA CLEANING\n",
    "# Make the dataframe a list of list integers\n",
    "baskets_ls = []\n",
    "# take all the baskets with their items, columns[0] is the only column we have in our dataframe\n",
    "df_baskets = df_market[df_market.columns[0]]\n",
    "\n",
    "for basket in df_baskets:\n",
    "    basket = basket.split() # split the string of items\n",
    "    basket_ls = [] # create the single basket as list\n",
    "    for item in basket:\n",
    "        item = int(item) # convert an item to int\n",
    "        basket_ls.append(item) # add it to the basket\n",
    "    baskets_ls.append(basket_ls) # add the basket to the list\n",
    "\n",
    "# print(baskets_ls)"
   ]
  },
  {
   "cell_type": "markdown",
   "metadata": {
    "id": "idR-zhr63C1t"
   },
   "source": [
    "## A-Priori algorithm\n",
    "\n",
    "To find frequent itemsets with support at least s in a dataset of sales transactions, we are implementing the A-Priori algorithm.\n",
    "\n",
    "First we need to define the **support** of an itemset as the the number of transactions containing the itemset. We say a set I of items is frequent only if its support is at least the value of a threshold s. The threshold s of the support should be set sufficiently high that not so many frequent itemsets are together. As a rule of thumb, s is 1% of the number of baskets."
   ]
  },
  {
   "cell_type": "markdown",
   "metadata": {},
   "source": [
    "## Finding frequent items\n",
    "\n",
    "The first pass of the A-Priori algorithm is to determine which are the frequent items as singletons. Thus creating a list of these frequent items (in the code called \"items\") hopefully smaller than the one with all the items.\n",
    "\n",
    "C_1 is the **candidate** set for single items and is a dictionary with the key equal to the item and the value is its support.\n",
    "\n",
    "Since for a candidate to be a frequent itemset, all its subsets must be frequent, we added a loop that removes from the candidate set the items that are not frequent, so that this new candidate set will be used to find the frequent doubletons, tripletons, etc..\n",
    "\n",
    "In order to get results in a short time we set the threshold at the highest integer above the mean of the frequencies, in this case 2."
   ]
  },
  {
   "cell_type": "code",
   "execution_count": 264,
   "metadata": {},
   "outputs": [
    {
     "name": "stdout",
     "output_type": "stream",
     "text": [
      "Minimum frequency:  1\n",
      "Maximum frequency:  7828\n",
      "Median:  816.5\n",
      "Mean:  1161.1816091954022\n",
      "Support threshold [ceil(mean)]:  1000.0\n"
     ]
    }
   ],
   "source": [
    "# items must have at least a frequence of support threshold 1% of total baskets\n",
    "S_THRESHOLD = 0.01*len(baskets_ls)\n",
    "\n",
    "# dictionary containing all frequencies for frequent items\n",
    "C_1 = dict()\n",
    "# take all the baskets with their items\n",
    "# for every basket take the item and if it already exists\n",
    "# in the dictionary count +1\n",
    "for basket in baskets_ls:\n",
    "    for item in basket:\n",
    "        C_1[item] = C_1.get(item,0) + 1 # get gives the i value, if not found, gives 0\n",
    "        \n",
    "# find frequency statistics among items\n",
    "min_freq = min(C_1.values())\n",
    "max_freq = max(C_1.values())\n",
    "mean_val = statistics.mean(C_1.values())\n",
    "median = statistics.median(C_1.values())\n",
    "#S_THRESHOLD = math.ceil(mean_val) # set the threshold to next int after mean\n",
    "\n",
    "print(\"Minimum frequency: \", min_freq)\n",
    "print(\"Maximum frequency: \", max_freq)\n",
    "print(\"Median: \", median)\n",
    "print(\"Mean: \", mean_val)\n",
    "print(\"Support threshold [ceil(mean)]: \", S_THRESHOLD)\n",
    "#S_THRESHOLD=20\n",
    "\n",
    "# delete non-frequent items\n",
    "for item in list(C_1): # c1 is a list of dictionaries (e.g. 1:6, where 1 (key) is the value and 6 (value) the counter)\n",
    "    if C_1[item]<S_THRESHOLD:\n",
    "        del C_1[item]\n",
    "\n",
    "items = list(C_1.keys()) # list of all different frequent items\n",
    "support = [C_1] # list of dictionaries\n",
    "# print(\"Support for C_1: \\n\", support)\n",
    "# print(\"List of frequent items:\\n\", items)\n",
    "#print(\"C_1 items: \", len(items))"
   ]
  },
  {
   "cell_type": "code",
   "execution_count": 265,
   "metadata": {},
   "outputs": [
    {
     "data": {
      "image/png": "[encoded data removed]",
      "text/plain": [
       "<Figure size 640x480 with 1 Axes>"
      ]
     },
     "metadata": {},
     "output_type": "display_data"
    }
   ],
   "source": [
    "import matplotlib.pyplot as plt\n",
    "from collections import Counter\n",
    "\n",
    "cnt = Counter(C_1.values())\n",
    "plt.bar(cnt.keys(), cnt.values())\n",
    "\n",
    "plt.xlabel('Frequency')\n",
    "plt.ylabel('Number of documents with that frequency')\n",
    "plt.show()"
   ]
  },
  {
   "cell_type": "markdown",
   "metadata": {},
   "source": [
    "## Find the support of all frequent itemsets in our dataset\n",
    "\n",
    "The second step of the algorithm is to count all the pairs that consist of two frequent items. At the end of this step, we examine the structure of counts to determine which pairs are frequent. The same steps are applied to find larger sets of frequent items.\n",
    "For the Monotonicity Rule, we know that if no frequent itemsets of a certain size are found, there cannot be a larger itemset of them, therefore we can break the iteration.\n",
    "\n",
    "In order to get results in a short time we are only considering intemsets of dimension 1, 2, 3."
   ]
  },
  {
   "cell_type": "code",
   "execution_count": 266,
   "metadata": {},
   "outputs": [
    {
     "name": "stdout",
     "output_type": "stream",
     "text": [
      "Items:  {704, 227, 217, 390, 39, 682, 368, 722, 789, 825, 346, 829}\n",
      "Items:  {704, 825, 39}\n",
      "[{25: 1395, 52: 1983, 240: 1399, 274: 2628, 368: 7828, 448: 1370, 538: 3982, 561: 2783, 630: 1523, 687: 1762, 775: 3771, 825: 3085, 834: 1373, 39: 4258, 120: 4973, 205: 3605, 401: 3667, 581: 2943, 704: 1794, 814: 1672, 35: 1984, 674: 2527, 733: 1141, 854: 2847, 950: 1463, 422: 1255, 449: 1890, 857: 1588, 895: 3385, 937: 4681, 964: 1518, 229: 2281, 283: 4082, 294: 1445, 381: 2959, 708: 1090, 738: 2129, 766: 6265, 853: 1804, 883: 4902, 966: 3921, 978: 1141, 104: 1158, 143: 1417, 569: 2835, 620: 2100, 798: 3103, 185: 1529, 214: 1893, 350: 3069, 529: 7057, 658: 1881, 682: 4132, 782: 2767, 809: 2163, 947: 3690, 970: 2086, 227: 1818, 390: 2685, 71: 3507, 192: 2004, 208: 1483, 279: 3014, 280: 2108, 496: 1428, 530: 1263, 597: 2883, 618: 1337, 675: 2976, 720: 3864, 914: 4037, 932: 1786, 183: 3883, 217: 5375, 276: 2479, 653: 2634, 706: 1923, 878: 2047, 161: 2320, 175: 2791, 177: 4629, 424: 1448, 490: 1066, 571: 2902, 623: 1845, 795: 3361, 910: 1695, 960: 2732, 125: 1287, 130: 1711, 392: 2420, 461: 1498, 862: 3649, 27: 2165, 78: 2471, 900: 1165, 921: 2425, 147: 1383, 411: 2047, 572: 1589, 579: 2164, 778: 2514, 803: 2237, 266: 1022, 290: 1793, 458: 1124, 523: 2244, 614: 3134, 888: 3686, 944: 2794, 43: 1721, 70: 2411, 204: 2174, 334: 2146, 480: 2309, 513: 1287, 874: 2237, 151: 2611, 504: 1296, 890: 1437, 73: 2179, 310: 1390, 419: 5057, 469: 1502, 722: 5845, 810: 1267, 844: 2814, 846: 1480, 918: 3012, 967: 1695, 326: 1488, 403: 1722, 526: 2793, 774: 2046, 788: 2386, 789: 4309, 975: 1764, 116: 2193, 198: 1461, 201: 1029, 171: 1097, 541: 3735, 701: 1283, 805: 1789, 946: 1350, 471: 2894, 487: 3135, 631: 2793, 638: 2288, 678: 1329, 735: 1689, 780: 2306, 935: 1742, 17: 1683, 242: 2325, 758: 2860, 763: 1862, 956: 3626, 145: 4559, 385: 1676, 676: 2717, 790: 1094, 792: 1306, 885: 3043, 522: 2725, 617: 2614, 859: 1242, 12: 3415, 296: 2210, 354: 5835, 548: 2843, 684: 5408, 740: 1632, 841: 1927, 210: 2009, 346: 3470, 477: 2462, 605: 1652, 829: 6810, 884: 1645, 234: 1416, 460: 4438, 649: 1292, 746: 1982, 600: 1192, 28: 1454, 157: 1140, 5: 1094, 115: 1775, 517: 1201, 736: 1470, 744: 2177, 919: 3710, 196: 2096, 489: 3420, 494: 5102, 641: 1494, 673: 1635, 362: 4388, 591: 1241, 31: 1666, 58: 1330, 181: 1235, 472: 2125, 573: 1229, 628: 1102, 651: 1288, 111: 1171, 154: 1447, 168: 1538, 580: 1667, 632: 1070, 832: 2062, 871: 2810, 988: 1164, 72: 2852, 981: 1542, 10: 1351, 132: 2641, 21: 2666, 32: 4248, 54: 2595, 239: 2742, 348: 1226, 100: 1749, 500: 1444, 48: 2472, 126: 1075, 319: 1371, 639: 1572, 765: 1705, 521: 1582, 112: 2680, 140: 2687, 285: 2600, 387: 2089, 511: 1015, 594: 1516, 93: 2777, 583: 1389, 606: 2668, 236: 2618, 952: 1574, 90: 1875, 593: 2601, 941: 1126, 122: 1081, 718: 1238, 1: 1535, 423: 1412, 516: 1544, 6: 2149, 69: 2370, 797: 2684, 913: 1939, 577: 1695, 110: 1801, 509: 3044, 611: 1444, 995: 1521, 343: 1599, 527: 1185, 33: 1460, 336: 1071, 989: 1289, 97: 1466, 574: 1297, 793: 3063, 598: 3219, 427: 1856, 470: 4137, 37: 1249, 992: 1116, 55: 1959, 897: 1935, 275: 1692, 51: 1612, 259: 1522, 45: 1728, 162: 1450, 378: 1149, 534: 1531, 906: 1444, 912: 1009, 576: 1337, 373: 2007, 716: 1199, 546: 1050, 665: 1297, 963: 1327, 349: 2041, 8: 3090, 197: 1230, 413: 2637, 749: 1330, 823: 1031, 94: 1201, 982: 1640, 984: 1756, 515: 1166, 692: 4993, 694: 2847, 567: 1102, 57: 2743, 800: 1916, 812: 1518, 41: 1353, 414: 1160, 923: 1753, 377: 1149, 752: 2578, 991: 1268, 998: 2713, 899: 1252, 710: 1044, 867: 1530, 170: 1203, 438: 4511, 563: 1065, 357: 1142, 332: 1861, 361: 1104, 322: 1154, 928: 1034, 75: 3151, 486: 1547, 440: 1943, 38: 2402, 784: 1257, 265: 1359, 686: 1495, 540: 1293, 468: 1089, 663: 2354, 819: 1257, 886: 3053, 429: 1037, 843: 1222, 129: 1547, 578: 1290, 510: 3281, 68: 1601, 860: 1255, 4: 1394, 887: 1671, 309: 1262, 804: 1315, 325: 1022, 826: 2022, 394: 1145, 707: 1354, 105: 1100, 815: 1358, 948: 1149, 308: 1402, 661: 2693, 634: 2492, 351: 1641, 405: 1525, 688: 1132, 949: 1414, 163: 1256, 893: 1947, 335: 1345, 173: 1080, 258: 1036, 85: 1555, 450: 2082, 428: 1021, 550: 1203, 769: 1622, 554: 1114, 366: 1031, 820: 1473, 207: 1214}, {(368, 682): 1193, (368, 829): 1194, (825, 39): 1187, (825, 704): 1102, (39, 704): 1107, (227, 390): 1049, (390, 722): 1042, (217, 346): 1336, (789, 829): 1194}, {(704, 39, 825): 1035}]\n"
     ]
    }
   ],
   "source": [
    "# for every possible length of boundles, (a, b), (a, c, d), (e, f, g, w), ...\n",
    "# ideally there is a number of Candidate Items Sets as big as the cardinality\n",
    "# of all frequent singletons\n",
    "\n",
    "for i in range(2,len(items)):\n",
    "    s = dict() # new support, now for doubletons, tripletons, etc. \n",
    "    # for every combinations of i items\n",
    "    # count frequency of every combination among all baskets\n",
    "    for combo in combinations(items,i):\n",
    "        # iterate again in every basket of the original dataframe\n",
    "        for basket in baskets_ls:\n",
    "            # if the combination of i items is found in the basket, count+1\n",
    "            if set(combo).issubset(basket):\n",
    "                s[combo] = s.get(combo,0) + 1\n",
    "                # print(\"Found combo: \", combo)\n",
    "        # once all baskets are checked\n",
    "        # if there is a set for that combination and it is below threshold\n",
    "        # delete it -> keep  only actually frequuent items\n",
    "        # print(\"s.get(combo): \", s.get(combo))\n",
    "        # print(\"s[combo]: \", s[combo])\n",
    "        if s.get(combo) and s[combo]<S_THRESHOLD:\n",
    "            #print(\"Deleted s[combo] \", s[combo])\n",
    "            del s[combo]\n",
    "    # if s is empty -> the dimension i of itemsets is not present in any basket\n",
    "    if not s:\n",
    "        break # exit the for cycle (monotonicity rule)\n",
    "    support.append(s) # add the support of multiple-tons\n",
    "    items = list(s.keys())\n",
    "    new_items = []\n",
    "    for i in range(len(items)):\n",
    "        for j in range(len(items[i])):\n",
    "            new_items.append(items[i][j])\n",
    "    items = set(new_items)\n",
    "    print(\"Items: \", items)\n",
    "\n",
    "# Print list of all dictionaries for each combination with their frequencies\n",
    "print(support)"
   ]
  },
  {
   "cell_type": "code",
   "execution_count": 267,
   "metadata": {},
   "outputs": [
    {
     "data": {
      "image/png": "[encoded data removed]",
      "text/plain": [
       "<Figure size 640x480 with 1 Axes>"
      ]
     },
     "metadata": {},
     "output_type": "display_data"
    }
   ],
   "source": [
    "k = 0\n",
    "for C_k in support:\n",
    "    k+=1\n",
    "    cnt = Counter(C_k.values())\n",
    "    plt.bar(cnt.keys(), cnt.values(), label=fr\"$C_{k}$\")\n",
    "\n",
    "plt.xlabel('Frequency')\n",
    "plt.ylabel('Number of documents with that frequency')\n",
    "plt.legend()\n",
    "plt.show()"
   ]
  },
  {
   "cell_type": "markdown",
   "metadata": {},
   "source": [
    "## Generating association rules \n",
    "In this final part we are generating association rules with confidence at least c = 50 from the itemsets found in the first step.\n",
    "\n",
    "Confidence of rule X → Y is the fraction of transactions containing X⋃Y in all transactions that contain X, so we can say is the conditional probability of the itemset. A confidence set at 50 means that the probability of X⋃Y, given X, has to be at least 50%.\n",
    "\n",
    "Moreover, since association rules are not symmetric, but we took combination that were only of the type (a,b) and not viceversa, now we need to test the rule X → Y and also Y → X for the same frequent combination.\n"
   ]
  },
  {
   "cell_type": "code",
   "execution_count": 268,
   "metadata": {},
   "outputs": [
    {
     "ename": "KeyError",
     "evalue": "(39, 825)",
     "output_type": "error",
     "traceback": [
      "\u001b[0;31m---------------------------------------------------------------------------\u001b[0m",
      "\u001b[0;31mKeyError\u001b[0m                                  Traceback (most recent call last)",
      "Cell \u001b[0;32mIn [268], line 18\u001b[0m\n\u001b[1;32m     16\u001b[0m rule_1 \u001b[39m=\u001b[39m support[\u001b[39m-\u001b[39m\u001b[39m1\u001b[39m][combo]\u001b[39m/\u001b[39msupport[\u001b[39m0\u001b[39m][item]\u001b[39m*\u001b[39m\u001b[39m100\u001b[39m \n\u001b[1;32m     17\u001b[0m \u001b[39m# we do the same with the opposite rule (rules are not symmetric)\u001b[39;00m\n\u001b[0;32m---> 18\u001b[0m rule_2 \u001b[39m=\u001b[39m support[\u001b[39m-\u001b[39m\u001b[39m1\u001b[39m][combo]\u001b[39m/\u001b[39msupport[len_c\u001b[39m-\u001b[39;49m\u001b[39m1\u001b[39;49m][c]\u001b[39m*\u001b[39m\u001b[39m100\u001b[39m \n\u001b[1;32m     20\u001b[0m \u001b[39mif\u001b[39;00m rule_1\u001b[39m>\u001b[39m\u001b[39m=\u001b[39mMIN_CONFIDENCE: rules[\u001b[39mf\u001b[39m\u001b[39m\"\u001b[39m\u001b[39m{\u001b[39;00mitem\u001b[39m}\u001b[39;00m\u001b[39m->\u001b[39m\u001b[39m{\u001b[39;00mc\u001b[39m}\u001b[39;00m\u001b[39m\"\u001b[39m] \u001b[39m=\u001b[39m rule_1\n\u001b[1;32m     21\u001b[0m \u001b[39mif\u001b[39;00m rule_2\u001b[39m>\u001b[39m\u001b[39m=\u001b[39mMIN_CONFIDENCE: rules[\u001b[39mf\u001b[39m\u001b[39m\"\u001b[39m\u001b[39m{\u001b[39;00mc\u001b[39m}\u001b[39;00m\u001b[39m->\u001b[39m\u001b[39m{\u001b[39;00mitem\u001b[39m}\u001b[39;00m\u001b[39m\"\u001b[39m] \u001b[39m=\u001b[39m rule_2\n",
      "\u001b[0;31mKeyError\u001b[0m: (39, 825)"
     ]
    }
   ],
   "source": [
    "MIN_CONFIDENCE = 50.0 # confidence is set to be at least 50% \n",
    "# (confidence is the conditional probability of the itemset)\n",
    "\n",
    "rules = dict()\n",
    "# start from the last element of support, so the biggest cardinality of combo\n",
    "for combo in support[-1]: \n",
    "    for item in combo:\n",
    "        c = list(combo) \n",
    "        c.remove(item) # we need to remove one item from the combo to test our rule\n",
    "        len_c = len(c)\n",
    "        # if we have to deal with tuple if our combo now has more than one element\n",
    "        c = c[0] if len_c == 1 else tuple(c) \n",
    "        \n",
    "        # now we compute the confidence that is:\n",
    "        # the support of the union of the combo and the item divided by the support of the combo\n",
    "        rule_1 = support[-1][combo]/support[0][item]*100 \n",
    "        # we do the same with the opposite rule (rules are not symmetric)\n",
    "        rule_2 = support[-1][combo]/support[len_c-1][c]*100 \n",
    "        \n",
    "        if rule_1>=MIN_CONFIDENCE: rules[f\"{item}->{c}\"] = rule_1\n",
    "        if rule_2>=MIN_CONFIDENCE: rules[f\"{c}->{item}\"] = rule_2\n",
    "\n",
    "print(rules)"
   ]
  },
  {
   "cell_type": "code",
   "execution_count": null,
   "metadata": {},
   "outputs": [
    {
     "name": "stdout",
     "output_type": "stream",
     "text": [
      "Average confidence (mean):  92.51126126126125\n"
     ]
    }
   ],
   "source": [
    "print(\"Average confidence (mean): \", statistics.mean(rules.values()))"
   ]
  }
 ],
 "metadata": {
  "colab": {
   "collapsed_sections": [],
   "provenance": []
  },
  "kernelspec": {
   "display_name": "Python 3 (ipykernel)",
   "language": "python",
   "name": "python3"
  },
  "language_info": {
   "codemirror_mode": {
    "name": "ipython",
    "version": 3
   },
   "file_extension": ".py",
   "mimetype": "text/x-python",
   "name": "python",
   "nbconvert_exporter": "python",
   "pygments_lexer": "ipython3",
   "version": "3.8.10"
  },
  "vscode": {
   "interpreter": {
    "hash": "b0fa6594d8f4cbf19f97940f81e996739fb7646882a419484c72d19e05852a7e"
   }
  }
 },
 "nbformat": 4,
 "nbformat_minor": 1
}
