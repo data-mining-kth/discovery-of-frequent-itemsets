{
 "cells": [
  {
   "cell_type": "markdown",
   "metadata": {
    "id": "EOIaEvWVUKFp"
   },
   "source": [
    "# ID2222 Data Mining, Homework 2\n",
    "# **Discovery of Frequent Itemsets and Association Rules**\n",
    "\n",
    "Brando Chiminelli, Tommaso Praturlon\n",
    "\n",
    "November 21th, 2022"
   ]
  },
  {
   "cell_type": "markdown",
   "metadata": {
    "id": "0PqOxlll3C1p"
   },
   "source": [
    "The goal of this notebook is to ..."
   ]
  },
  {
   "cell_type": "markdown",
   "metadata": {
    "id": "35iKgnWG3C1q"
   },
   "source": [
    "## Import libraries and read the dataset\n",
    "\n",
    "In order to run this notebook you need to import the dataset at this address (https://canvas.kth.se/courses/36211/files/5772174/download?wrap=1) in a 'data' directory."
   ]
  },
  {
   "cell_type": "code",
   "execution_count": 8,
   "metadata": {
    "colab": {
     "base_uri": "https://localhost:8080/"
    },
    "id": "zsKXTmhdUKFq",
    "outputId": "0037249a-d66a-4394-973b-771f08c839bd"
   },
   "outputs": [
    {
     "name": "stdout",
     "output_type": "stream",
     "text": [
      "Data read successfully!\n"
     ]
    },
    {
     "data": {
      "text/html": [
       "<div>\n",
       "<style scoped>\n",
       "    .dataframe tbody tr th:only-of-type {\n",
       "        vertical-align: middle;\n",
       "    }\n",
       "\n",
       "    .dataframe tbody tr th {\n",
       "        vertical-align: top;\n",
       "    }\n",
       "\n",
       "    .dataframe thead th {\n",
       "        text-align: right;\n",
       "    }\n",
       "</style>\n",
       "<table border=\"1\" class=\"dataframe\">\n",
       "  <thead>\n",
       "    <tr style=\"text-align: right;\">\n",
       "      <th></th>\n",
       "      <th>0</th>\n",
       "    </tr>\n",
       "  </thead>\n",
       "  <tbody>\n",
       "    <tr>\n",
       "      <th>0</th>\n",
       "      <td>25 52 164 240 274 328 368 448 538 561 630 687 ...</td>\n",
       "    </tr>\n",
       "    <tr>\n",
       "      <th>1</th>\n",
       "      <td>39 120 124 205 401 581 704 814 825 834</td>\n",
       "    </tr>\n",
       "    <tr>\n",
       "      <th>2</th>\n",
       "      <td>35 249 674 712 733 759 854 950</td>\n",
       "    </tr>\n",
       "    <tr>\n",
       "      <th>3</th>\n",
       "      <td>39 422 449 704 825 857 895 937 954 964</td>\n",
       "    </tr>\n",
       "    <tr>\n",
       "      <th>4</th>\n",
       "      <td>15 229 262 283 294 352 381 708 738 766 853 883...</td>\n",
       "    </tr>\n",
       "  </tbody>\n",
       "</table>\n",
       "</div>"
      ],
      "text/plain": [
       "                                                   0\n",
       "0  25 52 164 240 274 328 368 448 538 561 630 687 ...\n",
       "1            39 120 124 205 401 581 704 814 825 834 \n",
       "2                    35 249 674 712 733 759 854 950 \n",
       "3            39 422 449 704 825 857 895 937 954 964 \n",
       "4  15 229 262 283 294 352 381 708 738 766 853 883..."
      ]
     },
     "execution_count": 8,
     "metadata": {},
     "output_type": "execute_result"
    }
   ],
   "source": [
    "import pandas as pd\n",
    "import numpy as np\n",
    "import random\n",
    "import time\n",
    "import matplotlib.pyplot as plt\n",
    "\n",
    "PATH_TO_DATA = \"../data/T10I4D100K.dat\"\n",
    "df_market = pd.read_csv(PATH_TO_DATA, header=None)\n",
    "print(\"Data read successfully!\")\n",
    "# Delete duplicates from the dataset in the columns title and text\n",
    "\n",
    "df_market.head()"
   ]
  },
  {
   "cell_type": "markdown",
   "metadata": {
    "id": "idR-zhr63C1t"
   },
   "source": [
    "## Finding frequent itemsets with support at least s\n",
    "\n",
    "Remind that an association rule is an implication X → Y, where X and Y are itemsets such that X∩Y=∅. Support of rule X → Y is the number of transactions that contain X⋃Y. Confidence of rule X → Y is the fraction of transactions containing X⋃Y in all transactions that contain X.\n",
    "\n",
    "TASK\n",
    "\n",
    "You are to solve the first sub-problem: to implement the A-Priori algorithm for finding frequent itemsets with support at least s in a dataset of sales transactions. Remind that support of an itemset is the number of transactions containing the itemset. To test and evaluate your implementation, write a program that uses your A-Priori algorithm implementation to discover frequent itemsets with support at least s in a given dataset of sales transactions."
   ]
  },
  {
   "cell_type": "code",
   "execution_count": 9,
   "metadata": {},
   "outputs": [
    {
     "name": "stdout",
     "output_type": "stream",
     "text": [
      "\u001b[33mDEPRECATION: Configuring installation scheme with distutils config files is deprecated and will no longer work in the near future. If you are using a Homebrew or Linuxbrew Python, please see discussion at https://github.com/Homebrew/homebrew-core/issues/76621\u001b[0m\u001b[33m\n",
      "\u001b[0mCollecting apyori\n",
      "  Downloading apyori-1.1.2.tar.gz (8.6 kB)\n",
      "  Preparing metadata (setup.py) ... \u001b[?25ldone\n",
      "\u001b[?25hBuilding wheels for collected packages: apyori\n",
      "  Building wheel for apyori (setup.py) ... \u001b[?25ldone\n",
      "\u001b[?25h  Created wheel for apyori: filename=apyori-1.1.2-py3-none-any.whl size=5955 sha256=309a4c9cb213e7b476e016c019d2ca8188da5f21624615791df084885177ae9b\n",
      "  Stored in directory: /Users/bralli/Library/Caches/pip/wheels/1a/4d/4f/a171c142b66180456b83a6180a70e68108127ea2d546ca174b\n",
      "Successfully built apyori\n",
      "Installing collected packages: apyori\n",
      "\u001b[33m  DEPRECATION: Configuring installation scheme with distutils config files is deprecated and will no longer work in the near future. If you are using a Homebrew or Linuxbrew Python, please see discussion at https://github.com/Homebrew/homebrew-core/issues/76621\u001b[0m\u001b[33m\n",
      "\u001b[0m\u001b[33mDEPRECATION: Configuring installation scheme with distutils config files is deprecated and will no longer work in the near future. If you are using a Homebrew or Linuxbrew Python, please see discussion at https://github.com/Homebrew/homebrew-core/issues/76621\u001b[0m\u001b[33m\n",
      "\u001b[0mSuccessfully installed apyori-1.1.2\n",
      "Note: you may need to restart the kernel to use updated packages.\n"
     ]
    }
   ],
   "source": [
    "pip install apyori"
   ]
  },
  {
   "cell_type": "code",
   "execution_count": 12,
   "metadata": {
    "id": "pfPtkGmOUKFr"
   },
   "outputs": [
    {
     "ename": "IndexError",
     "evalue": "index 1 is out of bounds for axis 1 with size 1",
     "output_type": "error",
     "traceback": [
      "\u001b[0;31m---------------------------------------------------------------------------\u001b[0m",
      "\u001b[0;31mIndexError\u001b[0m                                Traceback (most recent call last)",
      "Cell \u001b[0;32mIn [12], line 7\u001b[0m\n\u001b[1;32m      5\u001b[0m items\u001b[39m=\u001b[39m[]\n\u001b[1;32m      6\u001b[0m \u001b[39mfor\u001b[39;00m i \u001b[39min\u001b[39;00m \u001b[39mrange\u001b[39m(\u001b[39m0\u001b[39m,\u001b[39m20\u001b[39m):\n\u001b[0;32m----> 7\u001b[0m     items\u001b[39m.\u001b[39mappend([df_market\u001b[39m.\u001b[39mvalues[i,j] \u001b[39mfor\u001b[39;00m j \u001b[39min\u001b[39;00m \u001b[39mrange\u001b[39m(\u001b[39m0\u001b[39m,\u001b[39m6\u001b[39m)])\n\u001b[1;32m      9\u001b[0m final_rule\u001b[39m=\u001b[39mapriori(items, min_support\u001b[39m=\u001b[39m\u001b[39m0.1\u001b[39m, min_confidence\u001b[39m=\u001b[39m\u001b[39m0.5\u001b[39m, min_lift\u001b[39m=\u001b[39m\u001b[39m1.2\u001b[39m, min_length\u001b[39m=\u001b[39m\u001b[39m2\u001b[39m)\n\u001b[1;32m     11\u001b[0m final_results\u001b[39m=\u001b[39m\u001b[39mlist\u001b[39m(final_rule)\n",
      "Cell \u001b[0;32mIn [12], line 7\u001b[0m, in \u001b[0;36m<listcomp>\u001b[0;34m(.0)\u001b[0m\n\u001b[1;32m      5\u001b[0m items\u001b[39m=\u001b[39m[]\n\u001b[1;32m      6\u001b[0m \u001b[39mfor\u001b[39;00m i \u001b[39min\u001b[39;00m \u001b[39mrange\u001b[39m(\u001b[39m0\u001b[39m,\u001b[39m20\u001b[39m):\n\u001b[0;32m----> 7\u001b[0m     items\u001b[39m.\u001b[39mappend([df_market\u001b[39m.\u001b[39;49mvalues[i,j] \u001b[39mfor\u001b[39;00m j \u001b[39min\u001b[39;00m \u001b[39mrange\u001b[39m(\u001b[39m0\u001b[39m,\u001b[39m6\u001b[39m)])\n\u001b[1;32m      9\u001b[0m final_rule\u001b[39m=\u001b[39mapriori(items, min_support\u001b[39m=\u001b[39m\u001b[39m0.1\u001b[39m, min_confidence\u001b[39m=\u001b[39m\u001b[39m0.5\u001b[39m, min_lift\u001b[39m=\u001b[39m\u001b[39m1.2\u001b[39m, min_length\u001b[39m=\u001b[39m\u001b[39m2\u001b[39m)\n\u001b[1;32m     11\u001b[0m final_results\u001b[39m=\u001b[39m\u001b[39mlist\u001b[39m(final_rule)\n",
      "\u001b[0;31mIndexError\u001b[0m: index 1 is out of bounds for axis 1 with size 1"
     ]
    }
   ],
   "source": [
    "S_SUPPORT = 0.01 \n",
    "\n",
    "from apyori import apriori\n",
    "\n",
    "items=[]\n",
    "for i in range(0,20):\n",
    "    items.append([df_market.values[i,j] for j in range(0,6)])\n",
    "\n",
    "final_rule=apriori(items, min_support=0.1, min_confidence=0.5, min_lift=1.2, min_length=2)\n",
    "\n",
    "final_results=list(final_rule)\n",
    "print(final_rule)\n",
    "\n"
   ]
  },
  {
   "cell_type": "code",
   "execution_count": null,
   "metadata": {},
   "outputs": [],
   "source": []
  }
 ],
 "metadata": {
  "colab": {
   "collapsed_sections": [],
   "provenance": []
  },
  "kernelspec": {
   "display_name": "Python 3 (ipykernel)",
   "language": "python",
   "name": "python3"
  },
  "language_info": {
   "codemirror_mode": {
    "name": "ipython",
    "version": 3
   },
   "file_extension": ".py",
   "mimetype": "text/x-python",
   "name": "python",
   "nbconvert_exporter": "python",
   "pygments_lexer": "ipython3",
   "version": "3.9.13"
  },
  "vscode": {
   "interpreter": {
    "hash": "b0fa6594d8f4cbf19f97940f81e996739fb7646882a419484c72d19e05852a7e"
   }
  }
 },
 "nbformat": 4,
 "nbformat_minor": 1
}
