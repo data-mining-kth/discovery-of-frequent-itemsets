{
 "cells": [
  {
   "cell_type": "markdown",
   "metadata": {
    "id": "EOIaEvWVUKFp"
   },
   "source": [
    "# ID2222 Data Mining, Homework 2\n",
    "# **Discovery of Frequent Itemsets and Association Rules**\n",
    "\n",
    "Brando Chiminelli, Tommaso Praturlon\n",
    "\n",
    "November 21th, 2022"
   ]
  },
  {
   "cell_type": "markdown",
   "metadata": {
    "id": "0PqOxlll3C1p"
   },
   "source": [
    "## Goal:\n",
    "The goal of this notebook is to find frequent itemsets to identify items that frequently occur together in sets of items (baskets) so frequent itemsets e.g., identify products bought together by sufficiently many customers.\n",
    "The second step is to find the so called \"Association rules”. Those are if-then rules in the form of implication X → Y (if X then Y), where X and Y are itemsets (Y can be just an item) such that X∩Y=∅. For example: If butter and bread are bought together, customers also buy milk: {butter, bread} → {milk}. The rule needs the support of many (several hundred) transactions to be statistically significant.\n",
    "\n",
    "In our dataset we are dealing with sales transactions (baskets) of hashed items, so our associations rules will be for example {125, 987} → {122}. Moreover, we will display the relaative confidence for each association rule."
   ]
  },
  {
   "cell_type": "markdown",
   "metadata": {
    "id": "35iKgnWG3C1q"
   },
   "source": [
    "## How to run\n",
    "\n",
    "In order to run this notebook you need to import the dataset at this address (https://canvas.kth.se/courses/36211/files/5772174/download?wrap=1) in a 'data' directory.\n",
    "Then you can run all the notebook and read along the descriptions of the different parts of the implementation and check the comments present on the code."
   ]
  },
  {
   "cell_type": "markdown",
   "metadata": {},
   "source": [
    "## Import libraries and read the dataset\n",
    "In the following we import the few libraries needed for the project and we read the dataset.\n",
    "\n",
    "We decided to read 100 random baskets from the dataset in order to reduce weight on memory and by taking a random sampling we improve the rubustness of the code, because we test every time on a different dataset"
   ]
  },
  {
   "cell_type": "code",
   "execution_count": 158,
   "metadata": {
    "colab": {
     "base_uri": "https://localhost:8080/"
    },
    "id": "zsKXTmhdUKFq",
    "outputId": "0037249a-d66a-4394-973b-771f08c839bd"
   },
   "outputs": [
    {
     "name": "stdout",
     "output_type": "stream",
     "text": [
      "Data read successfully!\n",
      "                                                   0\n",
      "0  25 52 164 240 274 328 368 448 538 561 630 687 ...\n",
      "1                                          25 52 164\n",
      "2                                         25 52 164 \n",
      "3            39 120 124 205 401 581 704 814 825 834 \n",
      "4                    35 249 674 712 733 759 854 950 \n",
      "Number of baskets:  50\n"
     ]
    }
   ],
   "source": [
    "import pandas as pd\n",
    "import matplotlib.pyplot as plt\n",
    "from collections import Counter\n",
    "from itertools import combinations\n",
    "import statistics\n",
    "import math\n",
    "\n",
    "PATH_TO_DATA = \"../data/T10I4D100K.dat\"\n",
    "df_market = pd.read_csv(PATH_TO_DATA, header=None)\n",
    "print(\"Data read successfully!\")\n",
    "# Delete duplicates from the dataset in the columns title and text\n",
    "\n",
    "# Reduce dataset size for computation overload (temporary)\n",
    "df_market = df_market.iloc[0:50]\n",
    "print(df_market.head())\n",
    "print(\"Number of baskets: \", len(df_market))"
   ]
  },
  {
   "cell_type": "markdown",
   "metadata": {},
   "source": [
    "## Data cleaning\n",
    "\n",
    "Before proceeding on, we need to clean our data, so to have our dataset as lists of integers which is easier to work with. The cleaning of the data is implemented in the following block."
   ]
  },
  {
   "cell_type": "code",
   "execution_count": 86,
   "metadata": {
    "id": "pfPtkGmOUKFr"
   },
   "outputs": [],
   "source": [
    "# DATA CLEANING\n",
    "# Make the dataframe a list of list integers\n",
    "baskets_ls = []\n",
    "# take all the baskets with their items, columns[0] is the only column we have in our dataframe\n",
    "df_baskets = df_market[df_market.columns[0]]\n",
    "\n",
    "for basket in df_baskets:\n",
    "    basket = basket.split() # split the string of items\n",
    "    basket_ls = [] # create the single basket as list\n",
    "    for item in basket:\n",
    "        item = int(item) # convert an item to int\n",
    "        basket_ls.append(item) # add it to the basket\n",
    "    baskets_ls.append(basket_ls) # add the basket to the list\n",
    "\n",
    "# print(baskets_ls)"
   ]
  },
  {
   "cell_type": "markdown",
   "metadata": {
    "id": "idR-zhr63C1t"
   },
   "source": [
    "## A-Priori algorithm\n",
    "\n",
    "To find frequent itemsets with support at least s in a dataset of sales transactions we are implementing the A-Priori algorithm.\n",
    "\n",
    "First we need to define the support of an itemset as the the number of transactions containing the itemset. We say a set I of items is frequent only if its support is at least the value of a threshold s. The threshold s of the support should be set sufficiently high that not so many frequent itemsets are together. As a rule of thumb, s is 1% of the number of baskets."
   ]
  },
  {
   "cell_type": "markdown",
   "metadata": {},
   "source": [
    "## Finding frequent items\n",
    "\n",
    "The first pass of the A-Priori algorithm is to determine which are the frequent items as singletons. Thus creating a list of these frequent items (in the code called \"items\") hopefully smaller than the one with all the items.\n",
    "\n",
    "C_1 is the candidate set for single items and is a dictionary with the key equal to the item and the value is its support.\n",
    "\n",
    "Since for a candidate to be a frequent itemset, all its subsets must be frequent, we added a loop that removes from the candidate set the items that are not frequent, so that this new candidate set will be used to find the frequent doubletons, tripletons, etc..\n",
    "\n",
    "In order to get results in a short time we set the threshold at 3."
   ]
  },
  {
   "cell_type": "code",
   "execution_count": 93,
   "metadata": {},
   "outputs": [
    {
     "name": "stdout",
     "output_type": "stream",
     "text": [
      "Minimum frequency:  1\n",
      "Maximum frequency:  7\n",
      "Median:  1.0\n",
      "Mean:  1.593167701863354\n",
      "Support threshold [ceil(mean)]:  2\n"
     ]
    }
   ],
   "source": [
    "# items must have at least a frequence of support threshold 1% of total baskets\n",
    "# S_THRESHOLD = 0.01*len(baskets_ls)\n",
    "\n",
    "# dictionary containing all frequencies for frequent items\n",
    "C_1 = dict()\n",
    "# take all the baskets with their items\n",
    "# for every basket take the item and if it already exists\n",
    "# in the dictionary count +1\n",
    "for basket in baskets_ls:\n",
    "    for item in basket:\n",
    "        C_1[item] = C_1.get(item,0) + 1 # get gives the i value, if not found, gives 0\n",
    "        \n",
    "# find frequency statistics among items\n",
    "min_freq = min(C_1.values())\n",
    "max_freq = max(C_1.values())\n",
    "mean_val = statistics.mean(C_1.values())\n",
    "median = statistics.median(C_1.values())\n",
    "S_THRESHOLD = math.ceil(mean_val) # set the threshold to next int after mean\n",
    "\n",
    "print(\"Minimum frequency: \", min_freq)\n",
    "print(\"Maximum frequency: \", max_freq)\n",
    "print(\"Median: \", median)\n",
    "print(\"Mean: \", mean_val)\n",
    "print(\"Support threshold [ceil(mean)]: \", S_THRESHOLD)\n",
    "\n",
    "# delete non-frequent items\n",
    "for item in list(C_1): # c1 is a list of dictionaries (e.g. 1:6, where 1 (key) is the value and 6 (value) the counter)\n",
    "    if C_1[item]<S_THRESHOLD:\n",
    "        del C_1[item]\n",
    "\n",
    "items = list(C_1.keys()) # list of all different frequent items\n",
    "support = [C_1] # list of dictionaries\n",
    "# print(\"Support for C_1: \\n\", support)\n",
    "# print(\"List of frequent items:\\n\", items)"
   ]
  },
  {
   "cell_type": "code",
   "execution_count": 94,
   "metadata": {},
   "outputs": [
    {
     "data": {
      "image/png": "[encoded data removed]",
      "text/plain": [
       "<Figure size 640x480 with 1 Axes>"
      ]
     },
     "metadata": {},
     "output_type": "display_data"
    }
   ],
   "source": [
    "import matplotlib.pyplot as plt\n",
    "from collections import Counter\n",
    "\n",
    "cnt = Counter(C_1.values())\n",
    "plt.bar(cnt.keys(), cnt.values())\n",
    "\n",
    "plt.xlabel('Frequency')\n",
    "plt.ylabel('Number of documents with that frequency')\n",
    "plt.show()"
   ]
  },
  {
   "cell_type": "markdown",
   "metadata": {},
   "source": [
    "## Find the support of all frequent itemsets in our dataset\n",
    "\n",
    "The second step of the algorithm is to count all the pairs that consist of two frequent items. At the end of this step, we examine the structure of counts to determine which pairs are frequent. The same steps are applied to find larger sets of frequent items.\n",
    "For the Monotonicity Rule, we know that if no frequent itemsets of a certain size are found, there cannot be a larger itemset of them, therefore we can break the iteration.\n",
    "\n",
    "In order to get results in a short time we are only considering intemsets of dimension 1, 2, 3, 4."
   ]
  },
  {
   "cell_type": "code",
   "execution_count": 95,
   "metadata": {},
   "outputs": [
    {
     "name": "stdout",
     "output_type": "stream",
     "text": [
      "[{25: 5, 52: 6, 164: 5, 274: 5, 368: 4, 538: 3, 561: 3, 730: 2, 775: 3, 825: 4, 834: 3, 39: 4, 401: 2, 704: 4, 674: 3, 712: 3, 733: 2, 950: 2, 449: 2, 895: 3, 937: 3, 964: 2, 229: 3, 283: 2, 352: 2, 381: 3, 708: 2, 738: 2, 766: 4, 853: 3, 883: 2, 26: 2, 104: 2, 143: 2, 569: 3, 350: 3, 529: 7, 782: 2, 809: 2, 947: 3, 970: 2, 227: 4, 71: 3, 192: 3, 208: 2, 272: 2, 279: 3, 333: 2, 496: 2, 597: 2, 675: 2, 720: 2, 855: 2, 914: 3, 183: 2, 217: 2, 276: 3, 277: 2, 653: 2, 706: 2, 161: 2, 175: 2, 177: 3, 623: 2, 795: 3, 960: 2, 130: 2, 327: 2, 392: 3, 461: 2, 845: 2, 411: 2, 478: 2, 523: 2, 614: 2, 888: 5, 43: 2, 70: 3, 176: 2, 334: 2, 874: 3, 432: 2, 118: 2, 310: 2, 419: 3, 722: 3, 844: 2, 846: 2, 967: 3, 326: 2, 774: 2, 789: 3, 201: 2, 541: 2, 471: 2, 487: 2, 638: 2, 735: 3, 935: 2, 242: 2, 758: 2, 145: 2, 385: 2, 885: 2, 522: 2, 296: 4, 354: 2, 684: 2, 740: 2, 346: 2, 829: 4, 460: 2, 115: 2, 517: 2, 919: 2, 489: 3, 764: 2, 628: 2, 168: 2, 213: 2, 580: 2, 871: 2, 72: 2, 172: 2}, {(25, 52): 5, (25, 164): 4, (25, 730): 2, (52, 164): 4, (52, 730): 2, (368, 947): 2, (368, 296): 2, (538, 227): 2, (825, 834): 2, (825, 39): 3, (825, 704): 3, (39, 704): 3, (712, 296): 2, (895, 334): 2, (895, 874): 2, (937, 296): 2, (738, 766): 2, (766, 853): 3, (350, 782): 2, (529, 947): 2, (529, 496): 2, (529, 276): 2, (947, 296): 2, (227, 70): 2, (71, 208): 2, (71, 279): 2, (192, 888): 2, (192, 487): 2, (192, 638): 2, (192, 935): 2, (208, 279): 2, (279, 614): 2, (333, 720): 2, (392, 489): 2, (888, 487): 2, (888, 638): 2, (888, 935): 2, (70, 176): 2, (334, 874): 2, (722, 844): 2, (789, 829): 2, (487, 638): 2, (487, 935): 2, (638, 935): 2, (296, 684): 2}, {(25, 52, 164): 4, (25, 52, 730): 2, (368, 947, 296): 2, (825, 39, 704): 3, (895, 334, 874): 2, (71, 208, 279): 2, (192, 888, 487): 2, (192, 888, 638): 2, (192, 888, 935): 2, (192, 487, 638): 2, (192, 487, 935): 2, (192, 638, 935): 2, (888, 487, 638): 2, (888, 487, 935): 2, (888, 638, 935): 2, (487, 638, 935): 2}]\n"
     ]
    }
   ],
   "source": [
    "# for every possible length of boundles, (a, b), (a, c, d), (e, f, g, w), ...\n",
    "# ideally there is a number of Candidate Items Sets as big as the cardinality\n",
    "# of all frequent singletons\n",
    "\n",
    "#for i in range(2,len(items)):\n",
    "for i in range(2, 4):\n",
    "    s = dict() # new support, now for doubletons, tripletons, etc. \n",
    "    # for every combinations of i items\n",
    "    # count frequency of every combination among all baskets\n",
    "    for combo in combinations(items,i):\n",
    "        # iterate again in every basket of the original dataframe\n",
    "        for basket in baskets_ls:\n",
    "            # if the combination of i items is found in the basket, count+1\n",
    "            if set(combo).issubset(basket):\n",
    "                s[combo] = s.get(combo,0) + 1\n",
    "                # print(\"Found combo: \", combo)\n",
    "        # once all baskets are checked\n",
    "        # if there is a set for that combination and it is below threshold\n",
    "        # delete it -> keep  only actually frequuent items\n",
    "        # print(\"s.get(combo): \", s.get(combo))\n",
    "        # print(\"s[combo]: \", s[combo])\n",
    "        if s.get(combo) and s[combo]<MIN_SUPPORT:\n",
    "            #print(\"Deleted s[combo] \", s[combo])\n",
    "            del s[combo]\n",
    "    # if s is empty -> the dimension i of itemsets is not present in any basket\n",
    "    if not s:\n",
    "        break # exit the for cycle (monotonicity rule)\n",
    "    support.append(s) # add the support of multiple-tons\n",
    "\n",
    "# Print list of all dictionaries for each combination with their frequencies\n",
    "print(support)"
   ]
  },
  {
   "cell_type": "code",
   "execution_count": 96,
   "metadata": {},
   "outputs": [
    {
     "data": {
      "image/png": "[encoded data removed]",
      "text/plain": [
       "<Figure size 640x480 with 1 Axes>"
      ]
     },
     "metadata": {},
     "output_type": "display_data"
    }
   ],
   "source": [
    "k = 0\n",
    "for C_k in support:\n",
    "    k+=1\n",
    "    cnt = Counter(C_k.values())\n",
    "    plt.bar(cnt.keys(), cnt.values(), label=fr\"$C_{k}$\")\n",
    "\n",
    "plt.xlabel('Frequency')\n",
    "plt.ylabel('Number of documents with that frequency')\n",
    "plt.legend()\n",
    "plt.show()"
   ]
  },
  {
   "cell_type": "markdown",
   "metadata": {},
   "source": [
    "## Generating association rules \n",
    "In this final part we are generating association rules with confidence at least c = 50 from the itemsets found in the first step.\n",
    "\n",
    "Confidence of rule X → Y is the fraction of transactions containing X⋃Y in all transactions that contain X, so we can say is the conditional probability of the itemset. A confidence set at 50 means that the probability of X⋃Y, given X, has to be at least 50%.\n",
    "\n",
    "Moreover, since association rules are not symmetric, but we took combination that were only of the type (a,b) and not viceversa, now we need to test the rule X → Y and also Y → X for the same frequent combination.\n"
   ]
  },
  {
   "cell_type": "code",
   "execution_count": 97,
   "metadata": {},
   "outputs": [
    {
     "name": "stdout",
     "output_type": "stream",
     "text": [
      "{'25->(52, 164)': 80.0, '(52, 164)->25': 100.0, '52->(25, 164)': 66.66666666666666, '(25, 164)->52': 100.0, '164->(25, 52)': 80.0, '(25, 52)->164': 80.0, '(52, 730)->25': 100.0, '(25, 730)->52': 100.0, '730->(25, 52)': 100.0, '368->(947, 296)': 50.0, '(947, 296)->368': 100.0, '947->(368, 296)': 66.66666666666666, '(368, 296)->947': 100.0, '296->(368, 947)': 50.0, '(368, 947)->296': 100.0, '825->(39, 704)': 75.0, '(39, 704)->825': 100.0, '39->(825, 704)': 75.0, '(825, 704)->39': 100.0, '704->(825, 39)': 75.0, '(825, 39)->704': 100.0, '895->(334, 874)': 66.66666666666666, '(334, 874)->895': 100.0, '334->(895, 874)': 100.0, '(895, 874)->334': 100.0, '874->(895, 334)': 66.66666666666666, '(895, 334)->874': 100.0, '71->(208, 279)': 66.66666666666666, '(208, 279)->71': 100.0, '208->(71, 279)': 100.0, '(71, 279)->208': 100.0, '279->(71, 208)': 66.66666666666666, '(71, 208)->279': 100.0, '192->(888, 487)': 66.66666666666666, '(888, 487)->192': 100.0, '(192, 487)->888': 100.0, '487->(192, 888)': 100.0, '(192, 888)->487': 100.0, '192->(888, 638)': 66.66666666666666, '(888, 638)->192': 100.0, '(192, 638)->888': 100.0, '638->(192, 888)': 100.0, '(192, 888)->638': 100.0, '192->(888, 935)': 66.66666666666666, '(888, 935)->192': 100.0, '(192, 935)->888': 100.0, '935->(192, 888)': 100.0, '(192, 888)->935': 100.0, '192->(487, 638)': 66.66666666666666, '(487, 638)->192': 100.0, '487->(192, 638)': 100.0, '(192, 638)->487': 100.0, '638->(192, 487)': 100.0, '(192, 487)->638': 100.0, '192->(487, 935)': 66.66666666666666, '(487, 935)->192': 100.0, '487->(192, 935)': 100.0, '(192, 935)->487': 100.0, '935->(192, 487)': 100.0, '(192, 487)->935': 100.0, '192->(638, 935)': 66.66666666666666, '(638, 935)->192': 100.0, '638->(192, 935)': 100.0, '(192, 935)->638': 100.0, '935->(192, 638)': 100.0, '(192, 638)->935': 100.0, '(487, 638)->888': 100.0, '487->(888, 638)': 100.0, '(888, 638)->487': 100.0, '638->(888, 487)': 100.0, '(888, 487)->638': 100.0, '(487, 935)->888': 100.0, '487->(888, 935)': 100.0, '(888, 935)->487': 100.0, '935->(888, 487)': 100.0, '(888, 487)->935': 100.0, '(638, 935)->888': 100.0, '638->(888, 935)': 100.0, '(888, 935)->638': 100.0, '935->(888, 638)': 100.0, '(888, 638)->935': 100.0, '487->(638, 935)': 100.0, '(638, 935)->487': 100.0, '638->(487, 935)': 100.0, '(487, 935)->638': 100.0, '935->(487, 638)': 100.0, '(487, 638)->935': 100.0}\n"
     ]
    }
   ],
   "source": [
    "MIN_CONFIDENCE = 50.0 # confidence is set to be at least 50% \n",
    "# (confidence is the conditional probability of the itemset)\n",
    "\n",
    "rules = dict()\n",
    "# start from the last element of support, so the biggest cardinality of combo\n",
    "for combo in support[-1]: \n",
    "    for item in combo:\n",
    "        c = list(combo) \n",
    "        c.remove(item) # we need to remove one item from the combo to test our rule\n",
    "        len_c = len(c)\n",
    "        # if we have to deal with tuple if our combo now has more than one element\n",
    "        c = c[0] if len_c == 1 else tuple(c) \n",
    "        \n",
    "        # now we compute the confidence that is:\n",
    "        # the support of the union of the combo and the item divided by the support of the combo\n",
    "        rule_1 = support[-1][combo]/support[0][item]*100 \n",
    "        # we do the same with the opposite rule (rules are not symmetric)\n",
    "        rule_2 = support[-1][combo]/support[len_c-1][c]*100 \n",
    "        \n",
    "        if rule_1>=MIN_CONFIDENCE: rules[f\"{item}->{c}\"] = rule_1\n",
    "        if rule_2>=MIN_CONFIDENCE: rules[f\"{c}->{item}\"] = rule_2\n",
    "\n",
    "print(rules)"
   ]
  },
  {
   "cell_type": "code",
   "execution_count": 98,
   "metadata": {},
   "outputs": [
    {
     "name": "stdout",
     "output_type": "stream",
     "text": [
      "Average confidence (mean):  92.70114942528735\n"
     ]
    }
   ],
   "source": [
    "print(\"Average confidence (mean): \", statistics.mean(rules.values()))"
   ]
  }
 ],
 "metadata": {
  "colab": {
   "collapsed_sections": [],
   "provenance": []
  },
  "kernelspec": {
   "display_name": "Python 3 (ipykernel)",
   "language": "python",
   "name": "python3"
  },
  "language_info": {
   "codemirror_mode": {
    "name": "ipython",
    "version": 3
   },
   "file_extension": ".py",
   "mimetype": "text/x-python",
   "name": "python",
   "nbconvert_exporter": "python",
   "pygments_lexer": "ipython3",
   "version": "3.8.10"
  },
  "vscode": {
   "interpreter": {
    "hash": "b0fa6594d8f4cbf19f97940f81e996739fb7646882a419484c72d19e05852a7e"
   }
  }
 },
 "nbformat": 4,
 "nbformat_minor": 1
}
