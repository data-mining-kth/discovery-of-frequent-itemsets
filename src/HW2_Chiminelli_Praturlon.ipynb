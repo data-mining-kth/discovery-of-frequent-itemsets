{
 "cells": [
  {
   "cell_type": "markdown",
   "metadata": {
    "id": "EOIaEvWVUKFp"
   },
   "source": [
    "# ID2222 Data Mining, Homework 2\n",
    "# **Discovery of Frequent Itemsets and Association Rules**\n",
    "\n",
    "Brando Chiminelli, Tommaso Praturlon\n",
    "\n",
    "November 21th, 2022"
   ]
  },
  {
   "cell_type": "markdown",
   "metadata": {
    "id": "0PqOxlll3C1p"
   },
   "source": [
    "## Goal\n",
    "The goal of this notebook is to find frequent itemsets, and to identify items that frequently occur together in sets of items, called baskets. By frequent items we mean products bought together by sufficiently many customers.\n",
    "The second step is to find the so called \"Association rules”. Those are if-then rules in the form of implication X → Y (if X then Y), where X and Y are itemsets (Y can be just an item) such that X∩Y=∅. For example: If butter and bread are bought together, customers also buy milk: {butter, bread} → {milk}. The rule needs the support of many (several hundred) transactions to be statistically significant.\n",
    "\n",
    "In our dataset we are dealing with sales transactions (baskets) of hashed items, so our associations rules will be for example {125, 987} → {122}. Moreover, we will display the relative confidence for each association rule."
   ]
  },
  {
   "cell_type": "markdown",
   "metadata": {
    "id": "35iKgnWG3C1q"
   },
   "source": [
    "## How to run\n",
    "\n",
    "In order to run this notebook you need to import the dataset from this address (https://canvas.kth.se/courses/36211/files/5772174/download?wrap=1) in a 'data/' directory.\n",
    "Then you can run all the notebook and read along the descriptions of the different parts of the implementation and check the comments present on the code."
   ]
  },
  {
   "cell_type": "markdown",
   "metadata": {},
   "source": [
    "## Import libraries and read the dataset\n",
    "In the following we import the few libraries needed for the project and we read the dataset.\n",
    "\n",
    "We decided to read the first 2000 baskets from the dataset in order to reduce weight on memory. Our assumption is that items are uniformly distributed across the dataset, thus allowing us to have a good insight only from the given sample."
   ]
  },
  {
   "cell_type": "code",
   "execution_count": 6,
   "metadata": {
    "colab": {
     "base_uri": "https://localhost:8080/"
    },
    "id": "zsKXTmhdUKFq",
    "outputId": "0037249a-d66a-4394-973b-771f08c839bd"
   },
   "outputs": [
    {
     "name": "stdout",
     "output_type": "stream",
     "text": [
      "Data read successfully!\n",
      "                                                   0\n",
      "0  25 52 164 240 274 328 368 448 538 561 630 687 ...\n",
      "1            39 120 124 205 401 581 704 814 825 834 \n",
      "2                    35 249 674 712 733 759 854 950 \n",
      "3            39 422 449 704 825 857 895 937 954 964 \n",
      "4  15 229 262 283 294 352 381 708 738 766 853 883...\n",
      "Number of baskets:  20000\n"
     ]
    }
   ],
   "source": [
    "import pandas as pd\n",
    "import matplotlib.pyplot as plt\n",
    "from collections import Counter\n",
    "from itertools import combinations\n",
    "import statistics\n",
    "import math\n",
    "\n",
    "PATH_TO_DATA = \"../data/T10I4D100K.dat\"\n",
    "df_market = pd.read_csv(PATH_TO_DATA, header=None)\n",
    "print(\"Data read successfully!\")\n",
    "# Delete duplicates from the dataset in the columns title and text\n",
    "\n",
    "# Reduce dataset size for computation overload (temporary)\n",
    "df_market = df_market.iloc[0:20000]\n",
    "print(df_market.head())\n",
    "print(\"Number of baskets: \", len(df_market))"
   ]
  },
  {
   "cell_type": "markdown",
   "metadata": {},
   "source": [
    "## Data cleaning\n",
    "\n",
    "Before proceeding on, we need to clean our data, so to have our dataset as lists of integers, which is easier to work with. The cleaning of the data is implemented in the following block."
   ]
  },
  {
   "cell_type": "code",
   "execution_count": 7,
   "metadata": {
    "id": "pfPtkGmOUKFr"
   },
   "outputs": [],
   "source": [
    "# DATA CLEANING\n",
    "# Make the dataframe a list of list integers\n",
    "baskets_ls = []\n",
    "# take all the baskets with their items, columns[0] is the only column we have in our dataframe\n",
    "df_baskets = df_market[df_market.columns[0]]\n",
    "\n",
    "for basket in df_baskets:\n",
    "    basket = basket.split() # split the string of items\n",
    "    basket_ls = [] # create the single basket as list\n",
    "    for item in basket:\n",
    "        item = int(item) # convert an item to int\n",
    "        basket_ls.append(item) # add it to the basket\n",
    "    baskets_ls.append(basket_ls) # add the basket to the list\n",
    "\n",
    "# print(baskets_ls)"
   ]
  },
  {
   "cell_type": "markdown",
   "metadata": {
    "id": "idR-zhr63C1t"
   },
   "source": [
    "## A-Priori algorithm\n",
    "\n",
    "To find frequent itemsets with support at least s in a dataset of sales transactions, we are implementing the A-Priori algorithm.\n",
    "\n",
    "First we need to define the **support** of an itemset as the the number of transactions containing the itemset. We say a set I of items is frequent only if its support is at least the value of a threshold s. The threshold s of the support should be set sufficiently high that not so many frequent itemsets are together. As a rule of thumb, s is 1% of the number of baskets."
   ]
  },
  {
   "cell_type": "markdown",
   "metadata": {},
   "source": [
    "## Finding frequent items\n",
    "\n",
    "The first pass of the A-Priori algorithm is to determine which are the frequent items as singletons. Thus creating a list of these frequent items (in the code called \"items\") hopefully smaller than the one with all the items.\n",
    "\n",
    "C_1 is the **candidate** set for single items and is a dictionary with the key equal to the item and the value is its support.\n",
    "\n",
    "Since for a candidate to be a frequent itemset, all its subsets must be frequent, we added a loop that removes from the candidate set the items that are not frequent, so that this new candidate set will be used to find the frequent doubletons, tripletons, etc..\n",
    "\n",
    "In order to get results in a short time we set the threshold at the highest integer above the mean of the frequencies, in this case 2."
   ]
  },
  {
   "cell_type": "code",
   "execution_count": 8,
   "metadata": {},
   "outputs": [
    {
     "name": "stdout",
     "output_type": "stream",
     "text": [
      "Minimum frequency:  1\n",
      "Maximum frequency:  1580\n",
      "Median:  160\n",
      "Mean:  232.31645569620252\n",
      "Support threshold [ceil(mean)]:  200.0\n"
     ]
    }
   ],
   "source": [
    "# items must have at least a frequence of support threshold 1% of total baskets\n",
    "S_THRESHOLD = 0.01*len(baskets_ls)\n",
    "\n",
    "# dictionary containing all frequencies for frequent items\n",
    "C_1 = dict()\n",
    "# take all the baskets with their items\n",
    "# for every basket take the item and if it already exists\n",
    "# in the dictionary count +1\n",
    "for basket in baskets_ls:\n",
    "    for item in basket:\n",
    "        C_1[item] = C_1.get(item,0) + 1 # get gives the i value, if not found, gives 0\n",
    "        \n",
    "# find frequency statistics among items\n",
    "min_freq = min(C_1.values())\n",
    "max_freq = max(C_1.values())\n",
    "mean_val = statistics.mean(C_1.values())\n",
    "median = statistics.median(C_1.values())\n",
    "#S_THRESHOLD = math.ceil(mean_val) # set the threshold to next int after mean\n",
    "\n",
    "print(\"Minimum frequency: \", min_freq)\n",
    "print(\"Maximum frequency: \", max_freq)\n",
    "print(\"Median: \", median)\n",
    "print(\"Mean: \", mean_val)\n",
    "print(\"Support threshold [ceil(mean)]: \", S_THRESHOLD)\n",
    "#S_THRESHOLD=20\n",
    "\n",
    "# delete non-frequent items\n",
    "for item in list(C_1): # c1 is a list of dictionaries (e.g. 1:6, where 1 (key) is the value and 6 (value) the counter)\n",
    "    if C_1[item]<S_THRESHOLD:\n",
    "        del C_1[item]\n",
    "\n",
    "items = list(C_1.keys()) # list of all different frequent items\n",
    "support = [C_1] # list of dictionaries\n",
    "# print(\"Support for C_1: \\n\", support)\n",
    "# print(\"List of frequent items:\\n\", items)\n",
    "#print(\"C_1 items: \", len(items))"
   ]
  },
  {
   "cell_type": "code",
   "execution_count": 9,
   "metadata": {},
   "outputs": [
    {
     "data": {
      "image/png": "[encoded data removed]",
      "text/plain": [
       "<Figure size 640x480 with 1 Axes>"
      ]
     },
     "metadata": {},
     "output_type": "display_data"
    }
   ],
   "source": [
    "import matplotlib.pyplot as plt\n",
    "from collections import Counter\n",
    "\n",
    "cnt = Counter(C_1.values())\n",
    "plt.bar(cnt.keys(), cnt.values())\n",
    "\n",
    "plt.xlabel('Frequency')\n",
    "plt.ylabel('Number of documents with that frequency')\n",
    "plt.show()"
   ]
  },
  {
   "cell_type": "markdown",
   "metadata": {},
   "source": [
    "## Find the support of all frequent itemsets in our dataset\n",
    "\n",
    "The second step of the algorithm is to count all the pairs that consist of two frequent items. At the end of this step, we examine the structure of counts to determine which pairs are frequent. The same steps are applied to find larger sets of frequent items.\n",
    "For the Monotonicity Rule, we know that if no frequent itemsets of a certain size are found, there cannot be a larger itemset of them, therefore we can break the iteration.\n",
    "\n",
    "In order to get results in a short time we are only considering intemsets of dimension 1, 2, 3."
   ]
  },
  {
   "cell_type": "code",
   "execution_count": 11,
   "metadata": {},
   "outputs": [
    {
     "ename": "KeyboardInterrupt",
     "evalue": "",
     "output_type": "error",
     "traceback": [
      "\u001b[0;31m---------------------------------------------------------------------------\u001b[0m",
      "\u001b[0;31mKeyboardInterrupt\u001b[0m                         Traceback (most recent call last)",
      "Cell \u001b[0;32mIn [11], line 13\u001b[0m\n\u001b[1;32m      9\u001b[0m \u001b[38;5;28;01mfor\u001b[39;00m combo \u001b[38;5;129;01min\u001b[39;00m combinations(items,i):\n\u001b[1;32m     10\u001b[0m     \u001b[38;5;66;03m# iterate again in every basket of the original dataframe\u001b[39;00m\n\u001b[1;32m     11\u001b[0m     \u001b[38;5;28;01mfor\u001b[39;00m basket \u001b[38;5;129;01min\u001b[39;00m baskets_ls:\n\u001b[1;32m     12\u001b[0m         \u001b[38;5;66;03m# if the combination of i items is found in the basket, count+1\u001b[39;00m\n\u001b[0;32m---> 13\u001b[0m         \u001b[38;5;28;01mif\u001b[39;00m \u001b[38;5;28;43mset\u001b[39;49m\u001b[43m(\u001b[49m\u001b[43mcombo\u001b[49m\u001b[43m)\u001b[49m\u001b[38;5;241;43m.\u001b[39;49m\u001b[43missubset\u001b[49m\u001b[43m(\u001b[49m\u001b[43mbasket\u001b[49m\u001b[43m)\u001b[49m:\n\u001b[1;32m     14\u001b[0m             s[combo] \u001b[38;5;241m=\u001b[39m s\u001b[38;5;241m.\u001b[39mget(combo,\u001b[38;5;241m0\u001b[39m) \u001b[38;5;241m+\u001b[39m \u001b[38;5;241m1\u001b[39m\n\u001b[1;32m     15\u001b[0m             \u001b[38;5;66;03m# print(\"Found combo: \", combo)\u001b[39;00m\n\u001b[1;32m     16\u001b[0m     \u001b[38;5;66;03m# once all baskets are checked\u001b[39;00m\n\u001b[1;32m     17\u001b[0m     \u001b[38;5;66;03m# if there is a set for that combination and it is below threshold\u001b[39;00m\n\u001b[1;32m     18\u001b[0m     \u001b[38;5;66;03m# delete it -> keep  only actually frequuent items\u001b[39;00m\n\u001b[1;32m     19\u001b[0m     \u001b[38;5;66;03m# print(\"s.get(combo): \", s.get(combo))\u001b[39;00m\n\u001b[1;32m     20\u001b[0m     \u001b[38;5;66;03m# print(\"s[combo]: \", s[combo])\u001b[39;00m\n",
      "\u001b[0;31mKeyboardInterrupt\u001b[0m: "
     ]
    }
   ],
   "source": [
    "# for every possible length of boundles, (a, b), (a, c, d), (e, f, g, w), ...\n",
    "# ideally there is a number of Candidate Items Sets as big as the cardinality\n",
    "# of all frequent singletons\n",
    "\n",
    "for i in range(2,len(items)):\n",
    "    s = dict() # new support, now for doubletons, tripletons, etc. \n",
    "    # for every combinations of i items\n",
    "    # count frequency of every combination among all baskets\n",
    "    for combo in combinations(items,i):\n",
    "        # iterate again in every basket of the original dataframe\n",
    "        for basket in baskets_ls:\n",
    "            # if the combination of i items is found in the basket, count+1\n",
    "            if set(combo).issubset(basket):\n",
    "                s[combo] = s.get(combo,0) + 1\n",
    "                # print(\"Found combo: \", combo)\n",
    "        # once all baskets are checked\n",
    "        # if there is a set for that combination and it is below threshold\n",
    "        # delete it -> keep  only actually frequuent items\n",
    "        # print(\"s.get(combo): \", s.get(combo))\n",
    "        # print(\"s[combo]: \", s[combo])\n",
    "        if s.get(combo) and s[combo]<S_THRESHOLD:\n",
    "            #print(\"Deleted s[combo] \", s[combo])\n",
    "            del s[combo]\n",
    "    # if s is empty -> the dimension i of itemsets is not present in any basket\n",
    "    if not s:\n",
    "        break # exit the for cycle (monotonicity rule)\n",
    "    support.append(s) # add the support of multiple-tons\n",
    "    items = list(s.keys())\n",
    "    new_items = []\n",
    "    for i in range(len(items)):\n",
    "        for j in range(len(items[i])):\n",
    "            new_items.append(items[i][j])\n",
    "    items = set(new_items)\n",
    "    print(\"Items: \", items)\n",
    "\n",
    "# Print list of all dictionaries for each combination with their frequencies\n",
    "print(support)"
   ]
  },
  {
   "cell_type": "code",
   "execution_count": 165,
   "metadata": {},
   "outputs": [
    {
     "data": {
      "image/png": "[encoded data removed]",
      "text/plain": [
       "<Figure size 640x480 with 1 Axes>"
      ]
     },
     "metadata": {},
     "output_type": "display_data"
    }
   ],
   "source": [
    "k = 0\n",
    "for C_k in support:\n",
    "    k+=1\n",
    "    cnt = Counter(C_k.values())\n",
    "    plt.bar(cnt.keys(), cnt.values(), label=fr\"$C_{k}$\")\n",
    "\n",
    "plt.xlabel('Frequency')\n",
    "plt.ylabel('Number of documents with that frequency')\n",
    "plt.legend()\n",
    "plt.show()"
   ]
  },
  {
   "cell_type": "markdown",
   "metadata": {},
   "source": [
    "## Generating association rules \n",
    "In this final part we are generating association rules with confidence at least c = 50 from the itemsets found in the first step.\n",
    "\n",
    "Confidence of rule X → Y is the fraction of transactions containing X⋃Y in all transactions that contain X, so we can say is the conditional probability of the itemset. A confidence set at 50 means that the probability of X⋃Y, given X, has to be at least 50%.\n",
    "\n",
    "Moreover, since association rules are not symmetric, but we took combination that were only of the type (a,b) and not viceversa, now we need to test the rule X → Y and also Y → X for the same frequent combination.\n"
   ]
  },
  {
   "cell_type": "code",
   "execution_count": 166,
   "metadata": {},
   "outputs": [
    {
     "name": "stdout",
     "output_type": "stream",
     "text": [
      "{'25->(52, 730)': 100.0, '(52, 730)->25': 100.0, '52->(25, 730)': 66.66666666666666, '(25, 730)->52': 100.0, '730->(25, 52)': 100.0, '(25, 52)->730': 100.0, '368->(947, 296)': 50.0, '(947, 296)->368': 100.0, '947->(368, 296)': 66.66666666666666, '(368, 296)->947': 100.0, '(368, 947)->296': 100.0, '825->(39, 704)': 75.0, '(39, 704)->825': 100.0, '39->(825, 704)': 75.0, '(825, 704)->39': 100.0, '704->(825, 39)': 75.0, '(825, 39)->704': 100.0, '895->(334, 874)': 66.66666666666666, '(334, 874)->895': 100.0, '334->(895, 874)': 100.0, '(895, 874)->334': 100.0, '874->(895, 334)': 66.66666666666666, '(895, 334)->874': 100.0, '738->(70, 296)': 66.66666666666666, '(70, 296)->738': 100.0, '70->(738, 296)': 50.0, '(738, 296)->70': 100.0, '(738, 70)->296': 100.0, '71->(208, 279)': 66.66666666666666, '(208, 279)->71': 100.0, '208->(71, 279)': 100.0, '(71, 279)->208': 100.0, '279->(71, 208)': 66.66666666666666, '(71, 208)->279': 100.0, '192->(888, 487)': 66.66666666666666, '(888, 487)->192': 100.0, '(192, 487)->888': 100.0, '487->(192, 888)': 100.0, '(192, 888)->487': 100.0, '192->(888, 638)': 66.66666666666666, '(888, 638)->192': 100.0, '(192, 638)->888': 100.0, '638->(192, 888)': 100.0, '(192, 888)->638': 100.0, '192->(888, 935)': 66.66666666666666, '(888, 935)->192': 100.0, '(192, 935)->888': 100.0, '935->(192, 888)': 100.0, '(192, 888)->935': 100.0, '192->(487, 638)': 66.66666666666666, '(487, 638)->192': 100.0, '487->(192, 638)': 100.0, '(192, 638)->487': 100.0, '638->(192, 487)': 100.0, '(192, 487)->638': 100.0, '192->(487, 935)': 66.66666666666666, '(487, 935)->192': 100.0, '487->(192, 935)': 100.0, '(192, 935)->487': 100.0, '935->(192, 487)': 100.0, '(192, 487)->935': 100.0, '192->(638, 935)': 66.66666666666666, '(638, 935)->192': 100.0, '638->(192, 935)': 100.0, '(192, 935)->638': 100.0, '935->(192, 638)': 100.0, '(192, 638)->935': 100.0, '175->(614, 494)': 66.66666666666666, '(614, 494)->175': 100.0, '614->(175, 494)': 50.0, '(175, 494)->614': 100.0, '494->(175, 614)': 100.0, '(175, 614)->494': 100.0, '175->(614, 641)': 66.66666666666666, '(614, 641)->175': 100.0, '614->(175, 641)': 50.0, '(175, 641)->614': 100.0, '641->(175, 614)': 100.0, '(175, 614)->641': 100.0, '175->(614, 723)': 66.66666666666666, '(614, 723)->175': 100.0, '614->(175, 723)': 50.0, '(175, 723)->614': 100.0, '723->(175, 614)': 100.0, '(175, 614)->723': 100.0, '175->(494, 641)': 66.66666666666666, '(494, 641)->175': 100.0, '494->(175, 641)': 100.0, '(175, 641)->494': 100.0, '641->(175, 494)': 100.0, '(175, 494)->641': 100.0, '175->(494, 723)': 66.66666666666666, '(494, 723)->175': 100.0, '494->(175, 723)': 100.0, '(175, 723)->494': 100.0, '723->(175, 494)': 100.0, '(175, 494)->723': 100.0, '175->(641, 723)': 66.66666666666666, '(641, 723)->175': 100.0, '641->(175, 723)': 100.0, '(175, 723)->641': 100.0, '723->(175, 641)': 100.0, '(175, 641)->723': 100.0, '614->(494, 641)': 50.0, '(494, 641)->614': 100.0, '494->(614, 641)': 100.0, '(614, 641)->494': 100.0, '641->(614, 494)': 100.0, '(614, 494)->641': 100.0, '614->(494, 723)': 50.0, '(494, 723)->614': 100.0, '494->(614, 723)': 100.0, '(614, 723)->494': 100.0, '723->(614, 494)': 100.0, '(614, 494)->723': 100.0, '614->(641, 723)': 50.0, '(641, 723)->614': 100.0, '641->(614, 723)': 100.0, '(614, 723)->641': 100.0, '723->(614, 641)': 100.0, '(614, 641)->723': 100.0, '(487, 638)->888': 100.0, '487->(888, 638)': 100.0, '(888, 638)->487': 100.0, '638->(888, 487)': 100.0, '(888, 487)->638': 100.0, '(487, 935)->888': 100.0, '487->(888, 935)': 100.0, '(888, 935)->487': 100.0, '935->(888, 487)': 100.0, '(888, 487)->935': 100.0, '(638, 935)->888': 100.0, '638->(888, 935)': 100.0, '(888, 935)->638': 100.0, '935->(888, 638)': 100.0, '(888, 638)->935': 100.0, '487->(638, 935)': 100.0, '(638, 935)->487': 100.0, '638->(487, 935)': 100.0, '(487, 935)->638': 100.0, '935->(487, 638)': 100.0, '(487, 638)->935': 100.0, '494->(641, 723)': 100.0, '(641, 723)->494': 100.0, '641->(494, 723)': 100.0, '(494, 723)->641': 100.0, '723->(494, 641)': 100.0, '(494, 641)->723': 100.0}\n"
     ]
    }
   ],
   "source": [
    "MIN_CONFIDENCE = 50.0 # confidence is set to be at least 50% \n",
    "# (confidence is the conditional probability of the itemset)\n",
    "\n",
    "rules = dict()\n",
    "# start from the last element of support, so the biggest cardinality of combo\n",
    "for combo in support[-1]: \n",
    "    for item in combo:\n",
    "        c = list(combo) \n",
    "        c.remove(item) # we need to remove one item from the combo to test our rule\n",
    "        len_c = len(c)\n",
    "        # if we have to deal with tuple if our combo now has more than one element\n",
    "        c = c[0] if len_c == 1 else tuple(c) \n",
    "        \n",
    "        # now we compute the confidence that is:\n",
    "        # the support of the union of the combo and the item divided by the support of the combo\n",
    "        rule_1 = support[-1][combo]/support[0][item]*100 \n",
    "        # we do the same with the opposite rule (rules are not symmetric)\n",
    "        rule_2 = support[-1][combo]/support[len_c-1][c]*100 \n",
    "        \n",
    "        if rule_1>=MIN_CONFIDENCE: rules[f\"{item}->{c}\"] = rule_1\n",
    "        if rule_2>=MIN_CONFIDENCE: rules[f\"{c}->{item}\"] = rule_2\n",
    "\n",
    "print(rules)"
   ]
  },
  {
   "cell_type": "code",
   "execution_count": 167,
   "metadata": {},
   "outputs": [
    {
     "name": "stdout",
     "output_type": "stream",
     "text": [
      "Average confidence (mean):  92.51126126126125\n"
     ]
    }
   ],
   "source": [
    "print(\"Average confidence (mean): \", statistics.mean(rules.values()))"
   ]
  }
 ],
 "metadata": {
  "colab": {
   "collapsed_sections": [],
   "provenance": []
  },
  "kernelspec": {
   "display_name": "Python 3 (ipykernel)",
   "language": "python",
   "name": "python3"
  },
  "language_info": {
   "codemirror_mode": {
    "name": "ipython",
    "version": 3
   },
   "file_extension": ".py",
   "mimetype": "text/x-python",
   "name": "python",
   "nbconvert_exporter": "python",
   "pygments_lexer": "ipython3",
   "version": "3.8.10"
  },
  "vscode": {
   "interpreter": {
    "hash": "b0fa6594d8f4cbf19f97940f81e996739fb7646882a419484c72d19e05852a7e"
   }
  }
 },
 "nbformat": 4,
 "nbformat_minor": 1
}
